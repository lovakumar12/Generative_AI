{
 "cells": [
  {
   "cell_type": "code",
   "execution_count": 1,
   "metadata": {},
   "outputs": [
    {
     "name": "stdout",
     "output_type": "stream",
     "text": [
      "Requirement already satisfied: ollama in c:\\users\\kumar\\.conda\\envs\\myenv\\lib\\site-packages (0.4.7)\n",
      "Requirement already satisfied: httpx<0.29,>=0.27 in c:\\users\\kumar\\.conda\\envs\\myenv\\lib\\site-packages (from ollama) (0.28.1)\n",
      "Requirement already satisfied: pydantic<3.0.0,>=2.9.0 in c:\\users\\kumar\\.conda\\envs\\myenv\\lib\\site-packages (from ollama) (2.10.6)\n",
      "Requirement already satisfied: anyio in c:\\users\\kumar\\.conda\\envs\\myenv\\lib\\site-packages (from httpx<0.29,>=0.27->ollama) (4.8.0)\n",
      "Requirement already satisfied: certifi in c:\\users\\kumar\\.conda\\envs\\myenv\\lib\\site-packages (from httpx<0.29,>=0.27->ollama) (2025.1.31)\n",
      "Requirement already satisfied: httpcore==1.* in c:\\users\\kumar\\.conda\\envs\\myenv\\lib\\site-packages (from httpx<0.29,>=0.27->ollama) (1.0.7)\n",
      "Requirement already satisfied: idna in c:\\users\\kumar\\.conda\\envs\\myenv\\lib\\site-packages (from httpx<0.29,>=0.27->ollama) (3.10)\n",
      "Requirement already satisfied: h11<0.15,>=0.13 in c:\\users\\kumar\\.conda\\envs\\myenv\\lib\\site-packages (from httpcore==1.*->httpx<0.29,>=0.27->ollama) (0.14.0)\n",
      "Requirement already satisfied: annotated-types>=0.6.0 in c:\\users\\kumar\\.conda\\envs\\myenv\\lib\\site-packages (from pydantic<3.0.0,>=2.9.0->ollama) (0.7.0)\n",
      "Requirement already satisfied: pydantic-core==2.27.2 in c:\\users\\kumar\\.conda\\envs\\myenv\\lib\\site-packages (from pydantic<3.0.0,>=2.9.0->ollama) (2.27.2)\n",
      "Requirement already satisfied: typing-extensions>=4.12.2 in c:\\users\\kumar\\.conda\\envs\\myenv\\lib\\site-packages (from pydantic<3.0.0,>=2.9.0->ollama) (4.12.2)\n",
      "Requirement already satisfied: sniffio>=1.1 in c:\\users\\kumar\\.conda\\envs\\myenv\\lib\\site-packages (from anyio->httpx<0.29,>=0.27->ollama) (1.3.1)\n"
     ]
    }
   ],
   "source": [
    "!pip install ollama"
   ]
  },
  {
   "cell_type": "code",
   "execution_count": 2,
   "metadata": {},
   "outputs": [
    {
     "name": "stdout",
     "output_type": "stream",
     "text": [
      "The sky appears blue because of a phenomenon called scattering, which occurs when sunlight interacts with the tiny molecules of gases in the Earth's atmosphere. Here's a simplified explanation:\n",
      "\n",
      "1. **Sunlight enters the Earth's atmosphere**: When the sun shines, its light travels through space and enters our atmosphere.\n",
      "2. **Light encounters gas molecules**: The sunlight hits the tiny molecules of gases such as nitrogen (N2) and oxygen (O2) in the atmosphere.\n",
      "3. **Scattering occurs**: These gas molecules scatter the light in all directions, but they scatter shorter (blue) wavelengths more than longer (red) wavelengths.\n",
      "4. **Blue light is scattered in all directions**: As a result of this scattering, the blue light is dispersed throughout the atmosphere, reaching our eyes from all parts of the sky.\n",
      "5. **Our eyes see the blue color**: When we look at the sky, we see the blue light that's been scattered in all directions, which is why the sky appears blue to us.\n",
      "\n",
      "The reason why the sky isn't always blue depends on various factors such as:\n",
      "\n",
      "* Time of day: During sunrise and sunset, the sun's rays have to travel through more of the atmosphere, scattering off more particles and making the light appear more red.\n",
      "* Atmospheric conditions: Pollution, dust, and water vapor in the air can scatter light in different ways, affecting its color and intensity.\n",
      "* Weather: Clouds, fog, and haze can block or scatter sunlight, changing the apparent color of the sky.\n",
      "\n",
      "So, that's why the sky appears blue – it's a result of the scattering of sunlight by gas molecules in our atmosphere!\n",
      "The sky appears blue because of a phenomenon called scattering, which occurs when sunlight interacts with the tiny molecules of gases in the Earth's atmosphere. Here's a simplified explanation:\n",
      "\n",
      "1. **Sunlight enters the Earth's atmosphere**: When the sun shines, its light travels through space and enters our atmosphere.\n",
      "2. **Light encounters gas molecules**: The sunlight hits the tiny molecules of gases such as nitrogen (N2) and oxygen (O2) in the atmosphere.\n",
      "3. **Scattering occurs**: These gas molecules scatter the light in all directions, but they scatter shorter (blue) wavelengths more than longer (red) wavelengths.\n",
      "4. **Blue light is scattered in all directions**: As a result of this scattering, the blue light is dispersed throughout the atmosphere, reaching our eyes from all parts of the sky.\n",
      "5. **Our eyes see the blue color**: When we look at the sky, we see the blue light that's been scattered in all directions, which is why the sky appears blue to us.\n",
      "\n",
      "The reason why the sky isn't always blue depends on various factors such as:\n",
      "\n",
      "* Time of day: During sunrise and sunset, the sun's rays have to travel through more of the atmosphere, scattering off more particles and making the light appear more red.\n",
      "* Atmospheric conditions: Pollution, dust, and water vapor in the air can scatter light in different ways, affecting its color and intensity.\n",
      "* Weather: Clouds, fog, and haze can block or scatter sunlight, changing the apparent color of the sky.\n",
      "\n",
      "So, that's why the sky appears blue – it's a result of the scattering of sunlight by gas molecules in our atmosphere!\n"
     ]
    }
   ],
   "source": [
    "from ollama import chat\n",
    "from ollama import ChatResponse\n",
    "\n",
    "response: ChatResponse = chat(model='llama3.2', messages=[\n",
    "  {\n",
    "    'role': 'user',\n",
    "    'content': 'Why is the sky blue?',\n",
    "  },\n",
    "])\n",
    "print(response['message']['content'])\n",
    "# or access fields directly from the response object\n",
    "print(response.message.content)"
   ]
  },
  {
   "cell_type": "markdown",
   "metadata": {},
   "source": [
    "## by using embeddings"
   ]
  },
  {
   "cell_type": "code",
   "execution_count": 5,
   "metadata": {},
   "outputs": [],
   "source": [
    "from langchain_ollama import OllamaEmbeddings\n",
    "\n",
    "embeddings = OllamaEmbeddings(\n",
    "    model=\"llama3.2\",\n",
    ")"
   ]
  },
  {
   "cell_type": "code",
   "execution_count": 6,
   "metadata": {},
   "outputs": [
    {
     "data": {
      "text/plain": [
       "'LangChain is the framework for building context-aware reasoning applications'"
      ]
     },
     "execution_count": 6,
     "metadata": {},
     "output_type": "execute_result"
    }
   ],
   "source": [
    "# Create a vector store with a sample text\n",
    "from langchain_core.vectorstores import InMemoryVectorStore\n",
    "\n",
    "text = \"LangChain is the framework for building context-aware reasoning applications\"\n",
    "\n",
    "vectorstore = InMemoryVectorStore.from_texts(\n",
    "    [text],\n",
    "    embedding=embeddings,\n",
    ")\n",
    "\n",
    "# Use the vectorstore as a retriever\n",
    "retriever = vectorstore.as_retriever()\n",
    "\n",
    "# Retrieve the most similar text\n",
    "retrieved_documents = retriever.invoke(\"What is LangChain?\")\n",
    "\n",
    "# show the retrieved document's content\n",
    "retrieved_documents[0].page_content"
   ]
  },
  {
   "cell_type": "code",
   "execution_count": null,
   "metadata": {},
   "outputs": [],
   "source": []
  }
 ],
 "metadata": {
  "kernelspec": {
   "display_name": "myenv",
   "language": "python",
   "name": "python3"
  },
  "language_info": {
   "codemirror_mode": {
    "name": "ipython",
    "version": 3
   },
   "file_extension": ".py",
   "mimetype": "text/x-python",
   "name": "python",
   "nbconvert_exporter": "python",
   "pygments_lexer": "ipython3",
   "version": "3.11.11"
  }
 },
 "nbformat": 4,
 "nbformat_minor": 2
}
