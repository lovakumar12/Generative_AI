{
 "cells": [
  {
   "cell_type": "markdown",
   "id": "465c003a-29cf-4cfe-a0c6-d36c04ae2b37",
   "metadata": {},
   "source": [
    "# Ouput Parsers\n",
    "* Format the answer of the LLM."
   ]
  },
  {
   "cell_type": "code",
   "execution_count": 1,
   "id": "e9a10870-432e-4818-aa5e-6be24c579d39",
   "metadata": {},
   "outputs": [],
   "source": [
    "#pip install python-dotenv"
   ]
  },
  {
   "cell_type": "code",
   "execution_count": 1,
   "id": "fecd39d0-e72e-4bc2-8a68-2fa4008ea365",
   "metadata": {},
   "outputs": [],
   "source": [
    "import os\n",
    "from dotenv import load_dotenv, find_dotenv\n",
    "_ = load_dotenv(find_dotenv())\n",
    "openai_api_key = os.environ[\"OPENAI_API_KEY\"]"
   ]
  },
  {
   "cell_type": "markdown",
   "id": "03f4a923-b19e-498e-9be5-e47ec4a77d80",
   "metadata": {},
   "source": [
    "#### Install LangChain"
   ]
  },
  {
   "cell_type": "markdown",
   "id": "6fa888f7-3718-4829-8645-30acb43db51f",
   "metadata": {},
   "source": [
    "If you are using the pre-loaded poetry shell, you do not need to install the following package because it is already pre-loaded for you:"
   ]
  },
  {
   "cell_type": "code",
   "execution_count": 3,
   "id": "c1cf94ae-6c39-4475-9c5b-4b74d8d78753",
   "metadata": {},
   "outputs": [],
   "source": [
    "#!pip install langchain"
   ]
  },
  {
   "cell_type": "markdown",
   "id": "189e9e17-dfb0-4fd3-85b9-1fba83771941",
   "metadata": {},
   "source": [
    "## Connect with an LLM"
   ]
  },
  {
   "cell_type": "markdown",
   "id": "4d5d5b71-b26a-4cd5-9765-019077a67141",
   "metadata": {},
   "source": [
    "If you are using the pre-loaded poetry shell, you do not need to install the following package because it is already pre-loaded for you:"
   ]
  },
  {
   "cell_type": "code",
   "execution_count": 4,
   "id": "148df8e0-361d-4ddd-8709-af48fa1648d1",
   "metadata": {},
   "outputs": [],
   "source": [
    "#!pip install langchain-openai"
   ]
  },
  {
   "cell_type": "markdown",
   "id": "a1998155-91de-4cbc-bc88-8d77beefb51b",
   "metadata": {},
   "source": [
    "* NOTE: Since right now is the best LLM in the market, we will use OpenAI by default. You will see how to connect with other Open Source LLMs like Llama3 or Mistral in a next lesson."
   ]
  },
  {
   "cell_type": "markdown",
   "id": "fbf1d17b-6d15-423b-b554-26d6d977ca27",
   "metadata": {},
   "source": [
    "## LLM Model\n",
    "* The trend before the launch of chatGPT-4.\n",
    "* See LangChain documentation about LLM Models [here](https://python.langchain.com/v0.1/docs/modules/model_io/llms/)."
   ]
  },
  {
   "cell_type": "code",
   "execution_count": 2,
   "id": "e92628f2-62e8-436c-92d4-e849de7744ad",
   "metadata": {},
   "outputs": [],
   "source": [
    "from langchain_openai import OpenAI\n",
    "\n",
    "llmModel = OpenAI()"
   ]
  },
  {
   "cell_type": "markdown",
   "id": "31346a0c-ee9c-4a80-8e8a-85ef682df7c3",
   "metadata": {},
   "source": [
    "## Chat Model\n",
    "* The general trend after the launch of chatGPT-4.\n",
    "    * Frequently known as \"Chatbot\". \n",
    "    * Conversation between Human and AI.\n",
    "    * Can have a system prompt defining the tone or the role of the AI. \n",
    "* See LangChain documentation about Chat Models [here](https://python.langchain.com/v0.1/docs/modules/model_io/chat/).\n",
    "* By default we will work with ChatOpenAI. See [here](https://python.langchain.com/v0.1/docs/integrations/chat/openai/) the LangChain documentation page about it."
   ]
  },
  {
   "cell_type": "code",
   "execution_count": 3,
   "id": "b14d27c3-0b1b-4b11-a883-8da2734f21a7",
   "metadata": {},
   "outputs": [],
   "source": [
    "from langchain_openai import ChatOpenAI\n",
    "\n",
    "chatModel = ChatOpenAI(model=\"gpt-3.5-turbo-0125\")"
   ]
  },
  {
   "cell_type": "markdown",
   "id": "c1b1be75",
   "metadata": {},
   "source": [
    "## usign llama-3"
   ]
  },
  {
   "cell_type": "code",
   "execution_count": 1,
   "id": "6884567c",
   "metadata": {},
   "outputs": [],
   "source": [
    "import os\n",
    "from dotenv import load_dotenv, find_dotenv\n",
    "_ = load_dotenv(find_dotenv())"
   ]
  },
  {
   "cell_type": "code",
   "execution_count": 2,
   "id": "a7902c70",
   "metadata": {},
   "outputs": [],
   "source": [
    "#!pip install langchain-groq"
   ]
  },
  {
   "cell_type": "code",
   "execution_count": 4,
   "id": "65339e2d",
   "metadata": {},
   "outputs": [],
   "source": [
    "from langchain_groq import ChatGroq\n",
    "\n",
    "llamaChatModel = ChatGroq(\n",
    "    model=\"llama3-70b-8192\"\n",
    ")"
   ]
  },
  {
   "cell_type": "markdown",
   "id": "4721c4a4-56d6-48e2-b9db-0de0309c492a",
   "metadata": {},
   "source": [
    "## Parsing Outputs\n",
    "* See the corresponding LangChain Documentation page [here](https://python.langchain.com/v0.1/docs/modules/model_io/output_parsers/).\n",
    "* Language models output text. But sometimes we would like to have those answers in a different format, like a JSON dictionary or a XML document. In order to achieve that, we use the Output Parsers."
   ]
  },
  {
   "cell_type": "code",
   "execution_count": 5,
   "id": "177b19be-ea45-4ecb-a4dc-914da7958de8",
   "metadata": {},
   "outputs": [],
   "source": [
    "from langchain_core.prompts import PromptTemplate\n",
    "from langchain.output_parsers.json import SimpleJsonOutputParser\n",
    "\n",
    "json_prompt = PromptTemplate.from_template(\n",
    "    \"Return a JSON object with an `answer` key that answers the following question: {question}\"\n",
    ")\n",
    "\n",
    "json_parser = SimpleJsonOutputParser()\n",
    "\n",
    "json_chain = json_prompt | llamaChatModel | json_parser"
   ]
  },
  {
   "cell_type": "markdown",
   "id": "33eb4ed2-f174-4177-b38d-b03397e4f2a7",
   "metadata": {},
   "source": [
    "#### The previous prompt template includes the parser instructions"
   ]
  },
  {
   "cell_type": "code",
   "execution_count": 6,
   "id": "047f7986-5502-4205-9a7a-e7e7e26f51a3",
   "metadata": {},
   "outputs": [
    {
     "data": {
      "text/plain": [
       "'Return a JSON object.'"
      ]
     },
     "execution_count": 6,
     "metadata": {},
     "output_type": "execute_result"
    }
   ],
   "source": [
    "json_parser.get_format_instructions()"
   ]
  },
  {
   "cell_type": "code",
   "execution_count": 8,
   "id": "ecb755d4-4a0f-486a-99dd-ea1873eb7c78",
   "metadata": {},
   "outputs": [
    {
     "data": {
      "text/plain": [
       "{'answer': {'name': 'China',\n",
       "  'capital': 'Beijing',\n",
       "  'population': 'over 1.44 billion',\n",
       "  'area': 'approximately 9.6 million square kilometers',\n",
       "  'government': 'One-party socialist republic',\n",
       "  'economy': 'Second-largest economy in the world',\n",
       "  'language': 'Mandarin Chinese (official), many other languages and dialects',\n",
       "  'religion': 'Buddhism, Taoism, Islam, Christianity, and others',\n",
       "  'history': 'One of the oldest civilizations in the world, with a history dating back over 4,000 years',\n",
       "  'landmarks': 'Great Wall of China, Forbidden City, Terracotta Warriors, and many others'}}"
      ]
     },
     "execution_count": 8,
     "metadata": {},
     "output_type": "execute_result"
    }
   ],
   "source": [
    "json_chain.invoke({\"question\": \"breif about china country?\"})"
   ]
  },
  {
   "cell_type": "code",
   "execution_count": 9,
   "id": "b16dfe07",
   "metadata": {},
   "outputs": [
    {
     "data": {
      "text/plain": [
       "{'answer': {'name': 'India',\n",
       "  'capital': 'New Delhi',\n",
       "  'location': 'South Asia',\n",
       "  'population': 'over 1.38 billion people',\n",
       "  'language': 'Hindi, English, and 22 other official languages',\n",
       "  'religion': 'Hinduism, Islam, Christianity, Sikhism, Buddhism, and Jainism',\n",
       "  'area': '3,287,590 square kilometers (1,269,219 sq mi)',\n",
       "  'currency': 'Indian rupee (INR)',\n",
       "  'known_for': 'Diverse culture, rich history, vibrant cities, beautiful landscapes, and spiritual heritage'}}"
      ]
     },
     "execution_count": 9,
     "metadata": {},
     "output_type": "execute_result"
    }
   ],
   "source": [
    "json_chain.invoke({\"question\": \"breif about india country?\"})"
   ]
  },
  {
   "cell_type": "markdown",
   "id": "f1181d87-13df-4abf-9910-0b44618642de",
   "metadata": {},
   "source": [
    "#### Optionally, you can use Pydantic to define a custom output format"
   ]
  },
  {
   "cell_type": "code",
   "execution_count": 7,
   "id": "cdcf2860-9b94-46f9-94f8-81ce173b8ca4",
   "metadata": {},
   "outputs": [],
   "source": [
    "from langchain_core.output_parsers import JsonOutputParser\n",
    "from langchain_core.prompts import PromptTemplate\n",
    "from langchain_core.pydantic_v1 import BaseModel, Field\n",
    "from langchain_openai import ChatOpenAI"
   ]
  },
  {
   "cell_type": "code",
   "execution_count": 8,
   "id": "873de824-c105-4e36-b4a7-d4bb498efc00",
   "metadata": {},
   "outputs": [],
   "source": [
    "# Define a Pydantic Object with the desired output format.\n",
    "class Joke(BaseModel):\n",
    "    setup: str = Field(description=\"question to set up a joke\")\n",
    "    punchline: str = Field(description=\"answer to resolve the joke\")"
   ]
  },
  {
   "cell_type": "code",
   "execution_count": 9,
   "id": "c7006219-e78f-4f1f-8d8a-559679f84845",
   "metadata": {},
   "outputs": [
    {
     "data": {
      "text/plain": [
       "{'setup': \"Why couldn't the bicycle stand up by itself?\",\n",
       " 'punchline': 'Because it was two tired!'}"
      ]
     },
     "execution_count": 9,
     "metadata": {},
     "output_type": "execute_result"
    }
   ],
   "source": [
    "# Define the parser referring the Pydantic Object\n",
    "parser = JsonOutputParser(pydantic_object=Joke)\n",
    "\n",
    "# Add the parser format instructions in the prompt definition.\n",
    "prompt = PromptTemplate(\n",
    "    template=\"Answer the user query.\\n{format_instructions}\\n{query}\\n\",\n",
    "    input_variables=[\"query\"],\n",
    "    partial_variables={\"format_instructions\": parser.get_format_instructions()},\n",
    ")\n",
    "\n",
    "# Create a chain with the prompt and the parser\n",
    "chain = prompt | chatModel | parser\n",
    "\n",
    "chain.invoke({\"query\": \"Tell me a joke.\"})"
   ]
  },
  {
   "cell_type": "markdown",
   "id": "a3230c19",
   "metadata": {},
   "source": [
    "## xml parser"
   ]
  },
  {
   "cell_type": "code",
   "execution_count": 10,
   "id": "d6ab63ac",
   "metadata": {},
   "outputs": [],
   "source": [
    "## to access the api key\n",
    "\n",
    "import os\n",
    "from dotenv import load_dotenv, find_dotenv\n",
    "_ = load_dotenv(find_dotenv())"
   ]
  },
  {
   "cell_type": "code",
   "execution_count": 11,
   "id": "95f82d00",
   "metadata": {},
   "outputs": [],
   "source": [
    "from langchain_groq import ChatGroq\n",
    "llamachatmodel=ChatGroq(model=\"llama3-70b-8192\")"
   ]
  },
  {
   "cell_type": "code",
   "execution_count": null,
   "id": "d835bec3",
   "metadata": {},
   "outputs": [],
   "source": [
    "from langchain_core.output_parsers import XMLOutputParser\n",
    "from langchain_core.prompts import PromptTemplate\n",
    "#prompt=PromptTemplate(template=\"Return an XML object with an `answer` key that answers the following question: {question}\")\n",
    "xml_parser=XMLOutputParser() ## Initialize XML Output Parser"
   ]
  },
  {
   "cell_type": "code",
   "execution_count": 41,
   "id": "184bf5fb",
   "metadata": {},
   "outputs": [],
   "source": [
    "parser = XMLOutputParser(tags=[\"movies\", \"actor\", \"film\", \"name\", \"genre\"])\n",
    "prompt = PromptTemplate(\n",
    "    template=\"\"\"{query}\\n{format_instructions}\"\"\",\n",
    "    input_variables=[\"query\"],\n",
    "    partial_variables={\"format_instructions\": parser.get_format_instructions()},\n",
    ")\n",
    "\n",
    "\n"
   ]
  },
  {
   "cell_type": "code",
   "execution_count": 35,
   "id": "2c472367",
   "metadata": {},
   "outputs": [
    {
     "name": "stdout",
     "output_type": "stream",
     "text": [
      "Requirement already satisfied: defusedxml in c:\\users\\kumar\\.conda\\envs\\myenv\\lib\\site-packages (0.7.1)\n"
     ]
    }
   ],
   "source": [
    "!pip install defusedxml"
   ]
  },
  {
   "cell_type": "code",
   "execution_count": 42,
   "id": "7d0cafea",
   "metadata": {},
   "outputs": [],
   "source": [
    "chain=prompt|llamachatmodel|xml_parser\n",
    "#chain.invoke({\"question\":\"breif about bahubali movie theaters relesing in china?\"})"
   ]
  },
  {
   "cell_type": "code",
   "execution_count": 56,
   "id": "223cad71",
   "metadata": {},
   "outputs": [],
   "source": [
    "llm_output=chain.invoke({\"query\":\"breif about bahubali movie ?\"})"
   ]
  },
  {
   "cell_type": "code",
   "execution_count": 57,
   "id": "c9528e84",
   "metadata": {},
   "outputs": [
    {
     "data": {
      "text/plain": [
       "{'movies': [{'film': [{'name': 'Bahubali'},\n",
       "    {'genre': 'Fantasy Action'},\n",
       "    {'actor': [{'name': 'Prabhas'}, {'role': 'Baahubali/Shivudu'}]},\n",
       "    {'actor': [{'name': 'Rana Daggubati'}, {'role': 'Bhallala Deva'}]},\n",
       "    {'actor': [{'name': 'Anushka Shetty'}, {'role': 'Devasena'}]},\n",
       "    {'brief': 'Baahubali is a two-part Indian fantasy action film directed by S. S. Rajamouli. The film is set in the fictional kingdom of Mahishmati and tells the story of Shivudu, an young man who sets out on a journey to claim his rightful place as the king of Mahishmati.'}]}]}"
      ]
     },
     "execution_count": 57,
     "metadata": {},
     "output_type": "execute_result"
    }
   ],
   "source": [
    "llm_output"
   ]
  },
  {
   "cell_type": "code",
   "execution_count": 62,
   "id": "df3a3622",
   "metadata": {},
   "outputs": [],
   "source": [
    "import json"
   ]
  },
  {
   "cell_type": "code",
   "execution_count": 63,
   "id": "9e79faf0",
   "metadata": {},
   "outputs": [
    {
     "name": "stdout",
     "output_type": "stream",
     "text": [
      "{\n",
      "    \"movies\": [\n",
      "        {\n",
      "            \"film\": [\n",
      "                {\n",
      "                    \"name\": \"Bahubali\"\n",
      "                },\n",
      "                {\n",
      "                    \"genre\": \"Fantasy Action\"\n",
      "                },\n",
      "                {\n",
      "                    \"actor\": [\n",
      "                        {\n",
      "                            \"name\": \"Prabhas\"\n",
      "                        },\n",
      "                        {\n",
      "                            \"role\": \"Baahubali/Shivudu\"\n",
      "                        }\n",
      "                    ]\n",
      "                },\n",
      "                {\n",
      "                    \"actor\": [\n",
      "                        {\n",
      "                            \"name\": \"Rana Daggubati\"\n",
      "                        },\n",
      "                        {\n",
      "                            \"role\": \"Bhallala Deva\"\n",
      "                        }\n",
      "                    ]\n",
      "                },\n",
      "                {\n",
      "                    \"actor\": [\n",
      "                        {\n",
      "                            \"name\": \"Anushka Shetty\"\n",
      "                        },\n",
      "                        {\n",
      "                            \"role\": \"Devasena\"\n",
      "                        }\n",
      "                    ]\n",
      "                },\n",
      "                {\n",
      "                    \"brief\": \"Baahubali is a two-part Indian fantasy action film directed by S. S. Rajamouli. The film is set in the fictional kingdom of Mahishmati and tells the story of Shivudu, an young man who sets out on a journey to claim his rightful place as the king of Mahishmati.\"\n",
      "                }\n",
      "            ]\n",
      "        }\n",
      "    ]\n",
      "}\n"
     ]
    }
   ],
   "source": [
    "# Convert the Python dictionary to a JSON string\n",
    "json_data = json.dumps(llm_output, indent=4)\n",
    "\n",
    "# Print the JSON string\n",
    "print(json_data)"
   ]
  },
  {
   "cell_type": "code",
   "execution_count": 64,
   "id": "18f9ca4d",
   "metadata": {},
   "outputs": [],
   "source": [
    "import xml.etree.ElementTree as ET\n",
    "def dict_to_xml(tag, dictionary):\n",
    "    \"\"\"\n",
    "    Recursively converts a dictionary to an XML element.\n",
    "    \"\"\"\n",
    "    elem = ET.Element(tag)  # Create an XML element with the given tag\n",
    "    for key, value in dictionary.items():\n",
    "        if isinstance(value, dict):  # If the value is a dictionary, recurse\n",
    "            child = dict_to_xml(key, value)\n",
    "            elem.append(child)\n",
    "        elif isinstance(value, list):  # If the value is a list, iterate through it\n",
    "            for item in value:\n",
    "                if isinstance(item, dict):\n",
    "                    child = dict_to_xml(key, item)\n",
    "                    elem.append(child)\n",
    "                else:\n",
    "                    child = ET.Element(key)\n",
    "                    child.text = str(item)\n",
    "                    elem.append(child)\n",
    "        else:  # Otherwise, add the key-value pair as an XML element\n",
    "            child = ET.Element(key)\n",
    "            child.text = str(value)\n",
    "            elem.append(child)\n",
    "    return elem\n",
    "\n",
    "# Convert the dictionary to an XML tree\n",
    "root = dict_to_xml('root', {'movies': llm_output['movies']})  # Wrap the data in a root element\n",
    "\n",
    "# Create an ElementTree object\n",
    "tree = ET.ElementTree(root)\n",
    "\n",
    "# Write the XML tree to a file\n",
    "with open('bahubali.xml', 'wb') as xml_file:\n",
    "    tree.write(xml_file)\n",
    "    "
   ]
  },
  {
   "cell_type": "markdown",
   "id": "f6ca72b6",
   "metadata": {},
   "source": [
    "## CSV parser"
   ]
  },
  {
   "cell_type": "code",
   "execution_count": null,
   "id": "b7e7dee8",
   "metadata": {},
   "outputs": [],
   "source": [
    "from langchain.output_parsers import CommaSeparatedListOutputParser\n",
    "from langchain_core.prompts import PromptTemplate\n",
    "#from langchain_openai import ChatOpenAI\n",
    "\n",
    "output_parser = CommaSeparatedListOutputParser()\n",
    "\n",
    "format_instructions = output_parser.get_format_instructions()\n",
    "prompt = PromptTemplate(\n",
    "    template=\"List five {subject}.\\n{format_instructions}\",\n",
    "    input_variables=[\"subject\"],\n",
    "    partial_variables={\"format_instructions\": format_instructions},\n",
    ")\n",
    "\n",
    "#model = ChatOpenAI(temperature=0)\n",
    "\n",
    "chain = prompt | llamachatmodel | output_parser"
   ]
  },
  {
   "cell_type": "code",
   "execution_count": 66,
   "id": "ff3cef33",
   "metadata": {},
   "outputs": [
    {
     "data": {
      "text/plain": [
       "['Here are five ice cream flavors:\\n\\nVanilla',\n",
       " 'Chocolate',\n",
       " 'Strawberry',\n",
       " 'Cookies and Cream',\n",
       " 'Mint Chocolate Chip']"
      ]
     },
     "execution_count": 66,
     "metadata": {},
     "output_type": "execute_result"
    }
   ],
   "source": [
    "chain.invoke({\"subject\": \"ice cream flavors\"})"
   ]
  },
  {
   "cell_type": "markdown",
   "id": "c8bca968",
   "metadata": {},
   "source": [
    "## customised out parsers(json , xml, csv etc.,)"
   ]
  },
  {
   "cell_type": "code",
   "execution_count": null,
   "id": "824b8be8",
   "metadata": {},
   "outputs": [
    {
     "name": "stdout",
     "output_type": "stream",
     "text": [
      "['Apple', 'Banana', 'Mango', 'Orange', 'Watermelon']\n",
      "{'movies': [{'film': [{'name': 'The Shawshank Redemption'}, {'genre': 'Drama'}, {'actor': 'Morgan Freeman'}]}, {'film': [{'name': 'The Godfather'}, {'genre': 'Crime'}, {'actor': 'Marlon Brando'}]}, {'film': [{'name': 'The Dark Knight'}, {'genre': 'Action'}, {'actor': 'Christian Bale'}]}, {'film': [{'name': 'Inception'}, {'genre': 'Science Fiction'}, {'actor': 'Leonardo DiCaprio'}]}, {'film': [{'name': 'The Lord of the Rings: The Return of the King'}, {'genre': 'Fantasy'}, {'actor': 'Elijah Wood'}]}]}\n",
      "{'answer': {'country': 'China', 'capital': 'Beijing', 'population': '1.443 billion (2022 est.)', 'language': 'Mandarin Chinese (official), other dialects', 'religion': 'Buddhism, Taoism, Islam, Christianity', 'area': '9,712,963 km² (3,755,767 sq mi)', 'government': 'One-party socialist republic', 'economy': 'Second-largest economy in the world, driven by manufacturing, technology, and services', 'currency': 'Renminbi (RMB)', 'history': \"One of the world's oldest civilizations, with a recorded history dating back to the Xia Dynasty (2100 BCE)\"}}\n"
     ]
    }
   ],
   "source": [
    "from langchain.output_parsers import (\n",
    "    CommaSeparatedListOutputParser,\n",
    "    XMLOutputParser,\n",
    "    #SimpleJsonOutputParser,\n",
    ")\n",
    "from langchain.output_parsers.json import SimpleJsonOutputParser\n",
    "from langchain.prompts import PromptTemplate\n",
    "#from langchain.chains import LLMChain\n",
    "from langchain.llms import BaseLLM  # Replace with your actual LLM class\n",
    "\n",
    "\n",
    "def get_output_parser(output_format):\n",
    "    \"\"\"\n",
    "    Returns the appropriate output parser based on the specified format.\n",
    "    \"\"\"\n",
    "    if output_format == \"list\":\n",
    "        return CommaSeparatedListOutputParser()\n",
    "    elif output_format == \"xml\":\n",
    "        return XMLOutputParser(tags=[\"movies\", \"actor\", \"film\", \"name\", \"genre\"])\n",
    "    elif output_format == \"json\":\n",
    "        return SimpleJsonOutputParser()\n",
    "    else:\n",
    "        raise ValueError(f\"Unsupported output format: {output_format}\")\n",
    "\n",
    "\n",
    "def generate_prompt_template(output_format, template_type=\"default\"):\n",
    "    \"\"\"\n",
    "    Generates a prompt template based on the output format and template type.\n",
    "    \"\"\"\n",
    "    parser = get_output_parser(output_format)\n",
    "    format_instructions = parser.get_format_instructions()\n",
    "\n",
    "    if template_type == \"list\":\n",
    "        return PromptTemplate(\n",
    "            template=\"List five {subject}.\\n{format_instructions}\",\n",
    "            input_variables=[\"subject\"],\n",
    "            partial_variables={\"format_instructions\": format_instructions},\n",
    "        )\n",
    "    elif template_type == \"query\":\n",
    "        return PromptTemplate(\n",
    "            template=\"{query}\\n{format_instructions}\",\n",
    "            input_variables=[\"query\"],\n",
    "            partial_variables={\"format_instructions\": format_instructions},\n",
    "        )\n",
    "    elif template_type == \"json\":\n",
    "        return PromptTemplate.from_template(\n",
    "            \"Return a JSON object with an `answer` key that answers the following question: {question}\"\n",
    "        )\n",
    "    else:\n",
    "        raise ValueError(f\"Unsupported template type: {template_type}\")\n",
    "\n",
    "\n",
    "def get_custom_output(llm_model: BaseLLM, input_data, output_format, template_type=\"default\"):\n",
    "    \"\"\"\n",
    "    Custom function to generate output in the desired format using the provided LLM model.\n",
    "    \"\"\"\n",
    "    # Step 1: Generate the appropriate prompt template\n",
    "    prompt_template = generate_prompt_template(output_format, template_type)\n",
    "\n",
    "    # Step 2: Create the chain with the LLM model and output parser\n",
    "    parser = get_output_parser(output_format)\n",
    "    chain = prompt_template | llm_model | parser\n",
    "\n",
    "    # Step 3: Invoke the chain with the input data\n",
    "    if template_type == \"list\":\n",
    "        result = chain.invoke({\"subject\": input_data})\n",
    "    elif template_type == \"query\":\n",
    "        result = chain.invoke({\"query\": input_data})\n",
    "    elif template_type == \"json\":\n",
    "        result = chain.invoke({\"question\": input_data})\n",
    "    else:\n",
    "        raise ValueError(f\"Unsupported template type: {template_type}\")\n",
    "\n",
    "    return result\n",
    "\n",
    "\n",
    "# Example Usage\n",
    "if __name__ == \"__main__\":\n",
    "    # Replace `llamaChatModel` with your actual LLM instance\n",
    "    # from langchain.llms import OpenAI  # Example LLM\n",
    "\n",
    "    # llm_model = OpenAI(temperature=0.7)\n",
    "\n",
    "    # Example 1: Generate a comma-separated list\n",
    "    print(get_custom_output(llamachatmodel, \"fruits\", \"list\", template_type=\"list\"))\n",
    "\n",
    "    # Example 2: Generate XML output\n",
    "    print(get_custom_output(llamachatmodel, \"What are some popular movies?\", \"xml\", template_type=\"query\"))\n",
    "\n",
    "    # Example 3: Generate JSON output\n",
    "    print(get_custom_output(llamachatmodel, \"Brief about China country?\", \"json\", template_type=\"json\"))"
   ]
  },
  {
   "cell_type": "markdown",
   "id": "512a50eb-dfe4-4d08-802e-c3dbc40a3444",
   "metadata": {},
   "source": [
    "## How to execute the code from Visual Studio Code\n",
    "* In Visual Studio Code, see the file 005-output-parsers.py\n",
    "* In terminal, make sure you are in the directory of the file and run:\n",
    "    * python 005-output-parsers.py"
   ]
  },
  {
   "cell_type": "code",
   "execution_count": null,
   "id": "9d0d7c2f-57ed-43f5-b6ed-77c54243c069",
   "metadata": {},
   "outputs": [],
   "source": []
  }
 ],
 "metadata": {
  "kernelspec": {
   "display_name": "myenv",
   "language": "python",
   "name": "python3"
  },
  "language_info": {
   "codemirror_mode": {
    "name": "ipython",
    "version": 3
   },
   "file_extension": ".py",
   "mimetype": "text/x-python",
   "name": "python",
   "nbconvert_exporter": "python",
   "pygments_lexer": "ipython3",
   "version": "3.11.11"
  }
 },
 "nbformat": 4,
 "nbformat_minor": 5
}
