{
 "cells": [
  {
   "cell_type": "markdown",
   "id": "5cd35694-5f5a-4d16-8669-ec1f5bf43393",
   "metadata": {},
   "source": [
    "# Connect with alternative LLMs\n",
    "* Talk with Open Source LLMs like Llama3 and Mixtral."
   ]
  },
  {
   "cell_type": "markdown",
   "id": "a4312ba1-de37-450b-89a3-c0b21d955801",
   "metadata": {},
   "source": [
    "## Caveat\n",
    "* Keep in mind that the quality of Llama3 and Mixtral is still below the quality of OpenAI's ChatGPT."
   ]
  },
  {
   "cell_type": "markdown",
   "id": "398411fd-07b6-4882-9625-e87ec3751da2",
   "metadata": {},
   "source": [
    "## Intro to Groq\n",
    "* Groq is an AI Startup company. **It is not the same as Grok, the LLM from Elon Musk**.\n",
    "* It has developed a new chip call LPU (Language Processing Unit) which is specificly design to run LLMs faster and cheaper.\n",
    "* It offers a Groq Cloud where you can try Open Source LLMs like Llama3 or Mixtral.\n",
    "* **It allows you to use Llama3 or Mixtral in your apps for free using a Groq API Key with some Rate Limits**."
   ]
  },
  {
   "cell_type": "markdown",
   "id": "c06a1309-a5f5-4797-aab2-e90d77c2dde5",
   "metadata": {},
   "source": [
    "## How to get a free Groq API Key\n",
    "* Login into Groq Cloud: [https://console.groq.com/login](https://console.groq.com/login)\n",
    "* Once logged in, click on API Keys (left sidebar).\n",
    "* Create a new API Key.\n",
    "* Copy the API Key and paste it in your .env file."
   ]
  },
  {
   "cell_type": "markdown",
   "id": "be4c154f-c329-4148-a57d-ed18fcd05d32",
   "metadata": {},
   "source": [
    "## How to install Groq in your project\n",
    "If you are using the pre-loaded poetry shell, you do not need to install the following package because it is already pre-loaded for you.\n",
    "\n",
    "LangChain has a module for it. We can install it the same way we install other LangChain modules, using PIP or (if we are working in a Poetry app) we can also install it using Poetry. Use one of the following options:\n",
    "* pip install langchain-groq\n",
    "* poetry add langchain-groq"
   ]
  },
  {
   "cell_type": "markdown",
   "id": "819fad70-2d71-4e4a-b8a6-20285d7eb44f",
   "metadata": {},
   "source": [
    "## How to use Groq in your LangChain or CrewAI project\n",
    "Very easy. Just add the following line at the top of your file:\n",
    "* from langchain_groq import ChatGroq\n",
    "\n",
    "And then, in the code, if you want to use Llama3:"
   ]
  },
  {
   "cell_type": "code",
   "execution_count": 1,
   "id": "7ce029dd-1e8b-4b82-98f6-bf9bfd09ccc1",
   "metadata": {},
   "outputs": [],
   "source": [
    "# llm = ChatGroq(\n",
    "#     model=\"llama3-70b-8192\"\n",
    "# )"
   ]
  },
  {
   "cell_type": "markdown",
   "id": "5f3f9434-fb9f-4960-af68-55af2d86d847",
   "metadata": {},
   "source": [
    "Or if you want to use Mixtral:"
   ]
  },
  {
   "cell_type": "code",
   "execution_count": 2,
   "id": "d2232591-6853-4840-b9d4-4b338a8d81d5",
   "metadata": {},
   "outputs": [],
   "source": [
    "# llm = ChatGroq(\n",
    "#     model=\"mixtral-8x7b-32768\"\n",
    "# )"
   ]
  },
  {
   "cell_type": "markdown",
   "id": "583dcd83-520b-4dc2-a160-1578314a847e",
   "metadata": {},
   "source": [
    "## You can take a look at Groq Rate limits here\n",
    "* https://console.groq.com/settings/limits"
   ]
  },
  {
   "cell_type": "markdown",
   "id": "5c4043b0-6f4e-4834-ac5c-8f3c1427c89d",
   "metadata": {},
   "source": [
    "## Groq pricing for projects in Production\n",
    "* [Groq pricing](https://wow.groq.com/)."
   ]
  },
  {
   "cell_type": "markdown",
   "id": "0e299ed0-391d-4578-aee6-2537ce294252",
   "metadata": {},
   "source": [
    "## Let's give it a try!"
   ]
  },
  {
   "cell_type": "markdown",
   "id": "055f6a62-115f-4d26-8809-2e604bddd82e",
   "metadata": {},
   "source": [
    "If you are using the pre-loaded poetry shell, you do not need to install the following package because it is already pre-loaded for you:"
   ]
  },
  {
   "cell_type": "code",
   "execution_count": 3,
   "id": "e93ed82f-d41b-4608-83d1-1053573905ff",
   "metadata": {},
   "outputs": [],
   "source": [
    "#pip install langchain-groq"
   ]
  },
  {
   "cell_type": "code",
   "execution_count": 1,
   "id": "0548e514-cf7a-4f53-8df4-b6c3d03dc696",
   "metadata": {},
   "outputs": [],
   "source": [
    "import os\n",
    "from dotenv import load_dotenv, find_dotenv\n",
    "_ = load_dotenv(find_dotenv())"
   ]
  },
  {
   "cell_type": "code",
   "execution_count": 2,
   "id": "b3e7309f-3080-4bd0-af0f-374cc642b5c0",
   "metadata": {},
   "outputs": [],
   "source": [
    "from langchain_groq import ChatGroq\n",
    "\n",
    "llamaChatModel = ChatGroq(\n",
    "    model=\"llama3-70b-8192\"\n",
    ")"
   ]
  },
  {
   "cell_type": "code",
   "execution_count": 4,
   "id": "8527fb7a-69a1-44ab-9601-e3e259df642a",
   "metadata": {},
   "outputs": [],
   "source": [
    "mistralChatModel = ChatGroq(\n",
    "    model=\"mixtral-8x7b-32768\"\n",
    ")"
   ]
  },
  {
   "cell_type": "code",
   "execution_count": 3,
   "id": "f41aad1b-4aba-4bf4-a06d-2925a68b4828",
   "metadata": {},
   "outputs": [],
   "source": [
    "messages = [\n",
    "    (\"system\", \"You are an historian expert in the Kennedy family.\"),\n",
    "    (\"human\", \"How many members of the family died tragically?\"),\n",
    "]"
   ]
  },
  {
   "cell_type": "code",
   "execution_count": null,
   "id": "374ce90e",
   "metadata": {},
   "outputs": [],
   "source": [
    "# messages = [\n",
    "#     (\"system\", \"You are an historian expert in the india.\"),\n",
    "#     (\"human\", \"who is the new deputy cm of ap in 2025?\"),\n",
    "# ]\n"
   ]
  },
  {
   "cell_type": "code",
   "execution_count": 4,
   "id": "df753975-ebd0-49d0-bd01-56bee372eb47",
   "metadata": {},
   "outputs": [],
   "source": [
    "llamaResponse = llamaChatModel.invoke(messages)"
   ]
  },
  {
   "cell_type": "code",
   "execution_count": null,
   "id": "56b6bb86",
   "metadata": {},
   "outputs": [
    {
     "name": "stdout",
     "output_type": "stream",
     "text": [
      "I'm an historian, not a fortune teller! As an expert in Indian history, I can provide information on past events, dynasties, empires, and historical figures, but I don't have the ability to predict future events or know the outcome of current or future political developments.\n",
      "\n",
      "In 2023, the current Chief Minister of Andhra Pradesh is Y.S. Jagan Mohan Reddy, and I'm not aware of any information about a new Deputy CM being appointed in 2025, as that would be a future event. If you have any questions about Indian history or politics up to the present day, I'd be happy to try and help!\n"
     ]
    }
   ],
   "source": [
    "#print(llamaResponse.content)"
   ]
  },
  {
   "cell_type": "code",
   "execution_count": 5,
   "id": "850e5967-ea3a-434a-8aed-406f29ed89aa",
   "metadata": {},
   "outputs": [
    {
     "name": "stdout",
     "output_type": "stream",
     "text": [
      "The Kennedy family has indeed been marked by a series of tragic events and untimely deaths. Here are some of the most notable ones:\n",
      "\n",
      "1. Joseph P. Kennedy Jr. (1915-1944): The eldest son of Joseph P. Kennedy Sr. and Rose Kennedy, Joe Jr. was killed in action during World War II while on a secret mission. His plane exploded over the English Channel, and he was just 29 years old.\n",
      "\n",
      "2. Kathleen \"Kick\" Kennedy (1920-1948): Kathleen, the fourth child and second daughter of the family, died in a plane crash in France at the age of 28. She was on her way to the French Riviera with her husband, the Marquess of Hartington, when the plane went down.\n",
      "\n",
      "3. John F. Kennedy (1917-1963): The 35th President of the United States, JFK was assassinated in Dallas, Texas, on November 22, 1963. He was just 46 years old.\n",
      "\n",
      "4. Robert F. Kennedy (1925-1968): The younger brother of JFK and U.S. Attorney General, RFK was assassinated on June 5, 1968, during his presidential campaign. He was shot by Sirhan Sirhan in Los Angeles and died the next day at the age of 42.\n",
      "\n",
      "5. David Kennedy (1955-1984): The son of Robert F. Kennedy, David died of a drug overdose at the age of 28 in a hotel room in Palm Beach, Florida.\n",
      "\n",
      "6. Michael LeMoyne Kennedy (1958-1997): Another son of Robert F. Kennedy, Michael died in a skiing accident in Aspen, Colorado, on December 31, 1997, at the age of 39.\n",
      "\n",
      "7. John F. Kennedy Jr. (1960-1999): The son of JFK and Jacqueline Kennedy Onassis, John Jr. died in a plane crash off the coast of Martha's Vineyard on July 18, 1999, at the age of 38. His wife Carolyn Bessette Kennedy and her sister Lauren Bessette were also killed in the crash.\n",
      "\n",
      "8. Kara Kennedy (1960-2011): The daughter of Ted Kennedy and Joan Bennett Kennedy, Kara died of a heart attack at the age of 51 while exercising at a Washington, D.C. gym.\n",
      "\n",
      "These tragedies have indeed cast a long shadow over the Kennedy family, earning them the nickname \"The Curse of the Kennedys.\" However, it's worth noting that the family has also experienced many triumphs and accomplishments, and their legacy continues to shape American politics and culture to this day.\n"
     ]
    }
   ],
   "source": [
    "print(llamaResponse.content)"
   ]
  },
  {
   "cell_type": "code",
   "execution_count": 7,
   "id": "63ce3b58-09d0-431b-95d2-ce9c2fbb5a9e",
   "metadata": {},
   "outputs": [],
   "source": [
    "mistralResponse = mistralChatModel.invoke(messages)"
   ]
  },
  {
   "cell_type": "code",
   "execution_count": 8,
   "id": "86f5dc68-4e8d-4006-9354-5d290901b77f",
   "metadata": {},
   "outputs": [
    {
     "name": "stdout",
     "output_type": "stream",
     "text": [
      "The Kennedy family has experienced more than its share of tragedy, with several members dying in unfortunate circumstances. Here are some of the most notable cases:\n",
      "\n",
      "1. Joseph P. Kennedy Sr.: While not exactly a tragic death, Joseph Sr. suffered a stroke in 1961 that left him severely disabled for the rest of his life.\n",
      "2. Joseph P. Kennedy Jr.: Joseph Jr. was the eldest son of Joseph Sr. and Rose Kennedy. He died in World War II when the bomber plane he was piloting exploded during a mission in 1944.\n",
      "3. John F. Kennedy: JFK, the 35th President of the United States, was assassinated on November 22, 1963, in Dallas, Texas.\n",
      "4. Robert F. Kennedy: RFK, a US Senator and Attorney General, was assassinated on June 6, 1968, in Los Angeles, California, while campaigning for the Democratic presidential nomination.\n",
      "5. Kathleen Cavendish, Marchioness of Hartington: Kathleen, JFK's sister, died in a plane crash in 1948 while en route to France.\n",
      "6. John F. Kennedy Jr.: JFK's son, John Jr., died in a plane crash in 1999, along with his wife, Carolyn Bessette Kennedy, and her sister, Lauren Bessette.\n",
      "\n",
      "These are some of the most prominent Kennedy family members who have died in tragic circumstances. There are other cases as well, such as the death of David Kennedy, JFK's nephew, due to a drug overdose in 1984.\n"
     ]
    }
   ],
   "source": [
    "print(mistralResponse.content)"
   ]
  },
  {
   "cell_type": "markdown",
   "id": "4c70e41d-5a7a-4831-a1be-978ccaceda07",
   "metadata": {},
   "source": [
    "## How to execute the code from Visual Studio Code\n",
    "* In Visual Studio Code, see the file 002-trying-different-llm-models.py\n",
    "* In terminal, make sure you are in the directory of the file and run:\n",
    "    * python 002-trying-different-llm-models.py"
   ]
  },
  {
   "cell_type": "markdown",
   "id": "3149a3c4",
   "metadata": {},
   "source": [
    "## there are the different chat models are there\n",
    "https://python.langchain.com/docs/integrations/chat/"
   ]
  },
  {
   "cell_type": "markdown",
   "id": "0b04b652",
   "metadata": {},
   "source": [
    "### Featured Providers :\n",
    "provide the different models to acces\n",
    "### All chat models :: \n",
    "all llm models avilable\n"
   ]
  },
  {
   "cell_type": "code",
   "execution_count": null,
   "id": "b47d77fd-c1ee-4e13-9219-7b5d16069f52",
   "metadata": {},
   "outputs": [],
   "source": []
  }
 ],
 "metadata": {
  "kernelspec": {
   "display_name": "myenv",
   "language": "python",
   "name": "python3"
  },
  "language_info": {
   "codemirror_mode": {
    "name": "ipython",
    "version": 3
   },
   "file_extension": ".py",
   "mimetype": "text/x-python",
   "name": "python",
   "nbconvert_exporter": "python",
   "pygments_lexer": "ipython3",
   "version": "3.11.11"
  }
 },
 "nbformat": 4,
 "nbformat_minor": 5
}
