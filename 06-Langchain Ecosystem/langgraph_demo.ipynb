{
 "cells": [
  {
   "cell_type": "markdown",
   "metadata": {},
   "source": [
    "## tavily Api key needed [click](https://app.tavily.com/home)"
   ]
  },
  {
   "cell_type": "code",
   "execution_count": 1,
   "metadata": {},
   "outputs": [],
   "source": [
    "import os\n",
    "from dotenv import load_dotenv, find_dotenv\n",
    "_ = load_dotenv(find_dotenv())\n",
    "# openai_api_key = os.environ['OPENAI_API_KEY']\n",
    "GROQ_API_KEY=\"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\"\n",
    "\n",
    "os.environ[\"TAVILY_API_KEY\"] = \"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\""
   ]
  },
  {
   "cell_type": "code",
   "execution_count": null,
   "metadata": {},
   "outputs": [],
   "source": [
    "# from langchain_openai import ChatOpenAI\n",
    "# #llm = ChatOpenAI(model=\"gpt-3.5-turbo\")"
   ]
  },
  {
   "cell_type": "code",
   "execution_count": 2,
   "metadata": {},
   "outputs": [],
   "source": [
    "from langchain_groq import ChatGroq\n",
    "llm = ChatGroq(\n",
    "    model=\"llama3-70b-8192\",\n",
    "    temperature=0,\n",
    "    max_tokens=None,\n",
    "    timeout=None,\n",
    "    max_retries=2,\n",
    "    api_key=GROQ_API_KEY,\n",
    "    \n",
    ")\n"
   ]
  },
  {
   "cell_type": "code",
   "execution_count": 3,
   "metadata": {},
   "outputs": [
    {
     "data": {
      "text/plain": [
       "[{'url': 'https://climate.axa/publications/the-2025-la-wildfires-a-warning-for-californias-future/',\n",
       "  'content': '**The wildfires that swept through Los Angeles (LA), California, in January 2025 were exceptionally difficult to control. They burned for several days, consuming more than 15,000 hectares and causing significant environmental, social, and economic impacts. According to CAL FIRE, these wildfires were the most destructive in Los Angeles’ history, destroying 16,252 structures. In total, more than 180,000 residents were evacuated, and at least 29 people lost their lives. With estimated economic [...] LA county is naturally prone to wildfires due to its Mediterranean climate characterized by very warm and dry conditions which dries out the vegetation creating favorable conditions for wildfire spread. High intensity and fast spreading wildfires are typically occurring during the summer months from July to September when the vegetation is the driest. However, the 2025 LA wildfires were unprecedented in both spread and intensity, largely due to extreme Santa Ana winds and critically low [...] Determining the precise influence of climate change on individual wildfires is complex. It requires examining the interplay between climate variability, vegetation changes, and wildfire activity. While few attribution studies on the 2025 LA wildfires exist, preliminary research indicates that the warm and dry conditions fueling these fires were 35% more likely to occur due to climate change (Barnes et al., 2025).\\xa0 Climate change may have also contributed to about 25% of the extreme fuel'},\n",
       " {'url': 'https://www.epa.gov/california-wildfires',\n",
       "  'content': 'On January 7, 2025, a series of catastrophic wildfires developed in Los Angeles County. EPA is working as part of an all-of-government response to these wildfires. We are tasked with removing hazardous materials from nearly 14,000 affected properties.'},\n",
       " {'url': 'https://en.wikipedia.org/wiki/2025_California_wildfires',\n",
       "  'content': '^ Vincent, Roger (January 24, 2025). \"Estimated cost of fire damage balloons to more than $250 billion\". Los Angeles Times. Archived from the original on January 26, 2025. Retrieved January 26, 2025.\\n^ Staff, Current (January 10, 2025). \"17 Tons of Dog Food Delivered to Aid Pets Displaced by LA Wildfire\". Westside Current. Retrieved March 4, 2025.\\n^ \"Palisades Fire\". California Department of Forestry and Fire Protection. Archived from the original on January 7, 2025. Retrieved January 21, 2025. [...] ^ Holthaus, Eric (January 9, 2025). \"The Los Angeles wildfires are climate disasters compounded\". The Guardian. Retrieved January 12, 2025.\\n^ Ignon, Lance (January 10, 2025). \"Has climate change contributed to the L.A. fires? Expert: \\'Definitely.\\'\". University of Southern California. Archived from the original on January 12, 2025. Retrieved January 12, 2025. [...] Summary\\n[edit]\\nThe 2025 fire season started in early January when a powerful Santa Ana wind event brought extreme winds to much of Southern California,[5] causing multiple fires to spread rapidly throughout the Greater Los Angeles area, destroying thousands of structures and burning over 50,000 acres.[1][6]\\nJanuary wildfires\\n[edit]\\nFurther information: January 2025 Southern California wildfires'}]"
      ]
     },
     "execution_count": 3,
     "metadata": {},
     "output_type": "execute_result"
    }
   ],
   "source": [
    "from langchain_community.tools.tavily_search import TavilySearchResults\n",
    "search = TavilySearchResults(max_results=3)\n",
    "search.invoke(\"Tell me about 2025 LA wildfire\")\n",
    "# search.invoke(\"Who are the top stars of the 2024 Eurocup?\")"
   ]
  },
  {
   "cell_type": "code",
   "execution_count": 4,
   "metadata": {},
   "outputs": [],
   "source": [
    "tools = [search]"
   ]
  },
  {
   "cell_type": "code",
   "execution_count": 5,
   "metadata": {},
   "outputs": [
    {
     "data": {
      "text/plain": [
       "[TavilySearchResults(max_results=3)]"
      ]
     },
     "execution_count": 5,
     "metadata": {},
     "output_type": "execute_result"
    }
   ],
   "source": [
    "tools"
   ]
  },
  {
   "cell_type": "code",
   "execution_count": 6,
   "metadata": {},
   "outputs": [],
   "source": [
    "from langgraph.prebuilt import create_react_agent\n",
    "agent_executor = create_react_agent(llm, tools)"
   ]
  },
  {
   "cell_type": "code",
   "execution_count": 7,
   "metadata": {},
   "outputs": [
    {
     "data": {
      "text/plain": [
       "[HumanMessage(content='Tell me about 2025 LA wildfire', id='22930e1f-575b-4cb2-9c56-7b3480276329'),\n",
       " AIMessage(content='', additional_kwargs={'tool_calls': [{'id': 'call_yv5t', 'function': {'arguments': '{\"query\":\"2025 LA wildfire\"}', 'name': 'tavily_search_results_json'}, 'type': 'function'}]}, response_metadata={'token_usage': {'completion_tokens': 50, 'prompt_tokens': 947, 'total_tokens': 997, 'completion_time': 0.142857143, 'prompt_time': 0.03092483, 'queue_time': 0.059836878999999996, 'total_time': 0.173781973}, 'model_name': 'llama3-70b-8192', 'system_fingerprint': 'fp_dd4ae1c591', 'finish_reason': 'tool_calls', 'logprobs': None}, id='run-85adcf4b-86ce-4e96-9f48-b5817d46a99d-0', tool_calls=[{'name': 'tavily_search_results_json', 'args': {'query': '2025 LA wildfire'}, 'id': 'call_yv5t', 'type': 'tool_call'}], usage_metadata={'input_tokens': 947, 'output_tokens': 50, 'total_tokens': 997}),\n",
       " ToolMessage(content='[{\"url\": \"https://en.wikipedia.org/wiki/January_2025_Southern_California_wildfires\", \"content\": \"Sentinel-3 satellite image of the Palisades (left) and Eaton (right) fires burning near Los Angeles, California, January 9, 2025\\\\nDate(s) January 7–31, 2025 (24 days)\\\\nLocation    Los Angeles, Orange, Riverside, San Bernardino, San Diego and Ventura counties, California\\\\nStatistics\\\\nBurned area Roughly 57,636 acres (23,324\\xa0ha; 90\\xa0sq\\xa0mi; 233\\xa0km2)\\\\nImpacts\\\\nDeaths  28+ total\\\\n(27+ direct,[1] 1 indirect[2])\\\\nMissing people  31+[3][4]\\\\nEvacuated   200,000+ [...] From January\\xa07 to 31, 2025, a series of 14 destructive wildfires affected the Los Angeles metropolitan area and San Diego County in California, United States.[5] The fires were exacerbated by drought conditions, low humidity, a buildup of vegetation from the previous winter, and hurricane-force Santa Ana winds, which in some places reached 100 miles per hour (160\\xa0km/h; 45\\xa0m/s). As of January\\xa031, 2025, the wildfires have killed at least 29 people,[6] forced more than 200,000 to evacuate, and [...] ^ Sami, Isabel. \\\\\"L.A. Mayor Karen Bass expedites wildfire rebuilding with executive order\\\\\". The Business Journals. Archived from the original on January 15, 2025. Retrieved January 15, 2025.\\\\n^ Bass, Karen (January 23, 2025). \\\\\"THURSDAY EVENING UPDATE: L.A. City Continues to Prepare Fire-Affected Areas for Potential Impacts from Rain\\\\\". mayor.lacity.gov. Archived from the original on January 25, 2025. Retrieved January 25, 2025.\"}, {\"url\": \"https://laedc.org/wpcms/wp-content/uploads/2025/02/LAEDC-2025-LA-Wildfires-Study.pdf\", \"content\": \"The 2025 Los Angeles wildfires have resulted in significant economic, property, and employment losses, with total property damages estimated between $28.0\"}, {\"url\": \"https://www.epa.gov/california-wildfires\", \"content\": \"On January 7, 2025, a series of catastrophic wildfires developed in Los Angeles County. EPA is working as part of an all-of-government response to these wildfires. We are tasked with removing hazardous materials from nearly 14,000 affected properties.\"}]', name='tavily_search_results_json', id='3f61cfca-8a79-4ab0-b617-04e9a55aa0cb', tool_call_id='call_yv5t'),\n",
       " AIMessage(content='The 2025 LA wildfires were a series of 14 destructive wildfires that affected the Los Angeles metropolitan area and San Diego County in California, United States, from January 7 to 31, 2025. The fires were exacerbated by drought conditions, low humidity, a buildup of vegetation from the previous winter, and hurricane-force Santa Ana winds, which in some places reached 100 miles per hour. As of January 31, 2025, the wildfires have killed at least 29 people, forced more than 200,000 to evacuate, and resulted in significant economic, property, and employment losses, with total property damages estimated between $28.0 billion.', response_metadata={'token_usage': {'completion_tokens': 136, 'prompt_tokens': 1581, 'total_tokens': 1717, 'completion_time': 0.388571429, 'prompt_time': 0.059374563, 'queue_time': 0.057497497, 'total_time': 0.447945992}, 'model_name': 'llama3-70b-8192', 'system_fingerprint': 'fp_dd4ae1c591', 'finish_reason': 'stop', 'logprobs': None}, id='run-03b6adc9-6292-4474-896d-5b25c284e66a-0', usage_metadata={'input_tokens': 1581, 'output_tokens': 136, 'total_tokens': 1717})]"
      ]
     },
     "execution_count": 7,
     "metadata": {},
     "output_type": "execute_result"
    }
   ],
   "source": [
    "from langchain_core.messages import HumanMessage\n",
    "response = agent_executor.invoke(\n",
    "    {\n",
    "        \"messages\": [HumanMessage(content=\"Tell me about 2025 LA wildfire\")]\n",
    "    }\n",
    ")\n",
    "\n",
    "response[\"messages\"]"
   ]
  },
  {
   "cell_type": "code",
   "execution_count": 17,
   "metadata": {},
   "outputs": [
    {
     "name": "stdout",
     "output_type": "stream",
     "text": [
      "{'agent': {'messages': [AIMessage(content='', additional_kwargs={'tool_calls': [{'id': 'call_Epk84AGRuPQXxV3osECKtgfo', 'function': {'arguments': '{\"query\":\"2024 Eurocup final match date and location\"}', 'name': 'tavily_search_results_json'}, 'type': 'function'}]}, response_metadata={'token_usage': {'completion_tokens': 27, 'prompt_tokens': 96, 'total_tokens': 123, 'completion_tokens_details': {'accepted_prediction_tokens': 0, 'audio_tokens': 0, 'reasoning_tokens': 0, 'rejected_prediction_tokens': 0}, 'prompt_tokens_details': {'audio_tokens': 0, 'cached_tokens': 0}}, 'model_name': 'gpt-3.5-turbo-0125', 'system_fingerprint': None, 'finish_reason': 'tool_calls', 'logprobs': None}, id='run-3405aada-70f7-4c8f-a640-fe979e70d2cd-0', tool_calls=[{'name': 'tavily_search_results_json', 'args': {'query': '2024 Eurocup final match date and location'}, 'id': 'call_Epk84AGRuPQXxV3osECKtgfo', 'type': 'tool_call'}], usage_metadata={'input_tokens': 96, 'output_tokens': 27, 'total_tokens': 123})]}}\n",
      "----\n",
      "{'tools': {'messages': [ToolMessage(content='[{\"url\": \"https://en.wikipedia.org/wiki/UEFA_Euro_2024_Final\", \"content\": \"The UEFA Euro 2024 final was a football match that determined the winners of UEFA Euro 2024.The match was the seventeenth final of the European Championship, a quadrennial tournament contested by the men\\'s national teams of the member associations of UEFA to decide the champions of Europe. The match was held at the Olympiastadion in Berlin, Germany, on 14 July 2024, and was contested by Spain\"}, {\"url\": \"https://www.uefa.com/euro2024/news/0275-151eb1c333ea-d30deec67b13-1000--uefa-euro-2024-fixtures-when-and-where-are-the-matches/\", \"content\": \"UEFA EURO 2024 kicked off on Friday 14 June and ended with the final between Spain and England in Berlin on Sunday 14 July. See the dates, venues and schedule.\"}, {\"url\": \"https://www.uefa.com/euro2024/news/0284-18bb952a9458-2a9e1ff202c4-1000--euro-2024-final-when-and-where-is-it/\", \"content\": \"The UEFA EURO 2024 final was played on Sunday 14 July, kicking off at 21:00 CET. The final: all the reaction The match took place at Olympiastadion Berlin, the biggest stadium at the tournament\"}]', name='tavily_search_results_json', tool_call_id='call_Epk84AGRuPQXxV3osECKtgfo')]}}\n",
      "----\n",
      "{'agent': {'messages': [AIMessage(content='The 2024 Eurocup final match will be held at the Olympiastadion in Berlin, Germany on 14 July 2024. The match will be contested by the national teams of Spain and England.', response_metadata={'token_usage': {'completion_tokens': 46, 'prompt_tokens': 456, 'total_tokens': 502, 'completion_tokens_details': {'accepted_prediction_tokens': 0, 'audio_tokens': 0, 'reasoning_tokens': 0, 'rejected_prediction_tokens': 0}, 'prompt_tokens_details': {'audio_tokens': 0, 'cached_tokens': 0}}, 'model_name': 'gpt-3.5-turbo-0125', 'system_fingerprint': None, 'finish_reason': 'stop', 'logprobs': None}, id='run-41174cd2-6ea2-4ae8-a0e3-1261c41c97fd-0', usage_metadata={'input_tokens': 456, 'output_tokens': 46, 'total_tokens': 502})]}}\n",
      "----\n"
     ]
    }
   ],
   "source": [
    "for chunk in agent_executor.stream(\n",
    "    {\"messages\": [HumanMessage(content=\"When and where will it be the 2024 Eurocup final match?\")]}\n",
    "):\n",
    "    print(chunk)\n",
    "    print(\"----\")"
   ]
  },
  {
   "cell_type": "markdown",
   "metadata": {},
   "source": [
    "## Adding memory\n",
    "* Adding memory in LangGraph is very similar to what we did with LangChain."
   ]
  },
  {
   "cell_type": "code",
   "execution_count": 8,
   "metadata": {},
   "outputs": [],
   "source": [
    "from langgraph.checkpoint.memory import MemorySaver\n",
    "from langchain_core.messages import HumanMessage\n",
    "\n",
    "memory =MemorySaver()\n"
   ]
  },
  {
   "cell_type": "code",
   "execution_count": 9,
   "metadata": {},
   "outputs": [],
   "source": [
    "agent_executor= create_react_agent(llm, tools,checkpointer=memory)"
   ]
  },
  {
   "cell_type": "code",
   "execution_count": 10,
   "metadata": {},
   "outputs": [],
   "source": [
    "config={\"configurable\":{\"thread_id\":\"001\"}}"
   ]
  },
  {
   "cell_type": "code",
   "execution_count": 11,
   "metadata": {},
   "outputs": [
    {
     "name": "stdout",
     "output_type": "stream",
     "text": [
      "{'agent': {'messages': [AIMessage(content='<tool-use>{\"tool_calls\": []}</tool-use>', response_metadata={'token_usage': {'completion_tokens': 13, 'prompt_tokens': 949, 'total_tokens': 962, 'completion_time': 0.074933695, 'prompt_time': 0.03875227, 'queue_time': 0.058750971000000006, 'total_time': 0.113685965}, 'model_name': 'llama3-70b-8192', 'system_fingerprint': 'fp_dd4ae1c591', 'finish_reason': 'stop', 'logprobs': None}, id='run-dbe87458-345c-4c79-977d-5f11f063eb6f-0', usage_metadata={'input_tokens': 949, 'output_tokens': 13, 'total_tokens': 962})]}}\n",
      "----\n"
     ]
    }
   ],
   "source": [
    "for chunk in agent_executor.stream(\n",
    "    {\"messages\":[HumanMessage(content=\"who won the 2025 champions tropy?\")]} ,config=config\n",
    "):\n",
    "    print(chunk)\n",
    "    print(\"----\")   "
   ]
  },
  {
   "cell_type": "code",
   "execution_count": 12,
   "metadata": {},
   "outputs": [
    {
     "name": "stdout",
     "output_type": "stream",
     "text": [
      "{'agent': {'messages': [AIMessage(content='<tool-use>{\"tool_calls\": []}</tool-use>', response_metadata={'token_usage': {'completion_tokens': 13, 'prompt_tokens': 976, 'total_tokens': 989, 'completion_time': 0.057671604, 'prompt_time': 0.03186769, 'queue_time': 0.05741691200000001, 'total_time': 0.089539294}, 'model_name': 'llama3-70b-8192', 'system_fingerprint': 'fp_dd4ae1c591', 'finish_reason': 'stop', 'logprobs': None}, id='run-2d21589b-726a-4d47-af09-ddc55fffe43a-0', usage_metadata={'input_tokens': 976, 'output_tokens': 13, 'total_tokens': 989})]}}\n",
      "----\n"
     ]
    }
   ],
   "source": [
    "for chunk in agent_executor.stream(\n",
    "    {\"messages\":[HumanMessage(content=\"who is the best player\")]} ,config=config\n",
    "):\n",
    "    print(chunk)\n",
    "    print(\"----\")   "
   ]
  }
 ],
 "metadata": {
  "kernelspec": {
   "display_name": "myenv",
   "language": "python",
   "name": "python3"
  },
  "language_info": {
   "codemirror_mode": {
    "name": "ipython",
    "version": 3
   },
   "file_extension": ".py",
   "mimetype": "text/x-python",
   "name": "python",
   "nbconvert_exporter": "python",
   "pygments_lexer": "ipython3",
   "version": "3.11.11"
  }
 },
 "nbformat": 4,
 "nbformat_minor": 2
}
